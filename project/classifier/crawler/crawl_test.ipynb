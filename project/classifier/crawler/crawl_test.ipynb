{
 "cells": [
  {
   "cell_type": "code",
   "execution_count": 37,
   "source": [
    "from urllib import request\n",
    "from urllib.error import HTTPError, URLError\n",
    "from bs4 import BeautifulSoup\n",
    "import re\n",
    "import sys"
   ],
   "outputs": [],
   "metadata": {}
  },
  {
   "cell_type": "markdown",
   "source": [
    "\"\"\"\n",
    "起動1\n",
    "java -jar C:\\Users\\mmi-lab\\Documents\\selenium\\selenium-server-standalone-3.141.59.jar -role hub\n",
    "\n",
    "起動2\n",
    "java -Dwebdriver.chrome.driver=\"C:\\Users\\mmi-lab\\Documents\\selenium\\chromedriver.exe\" -jar C:\\Users\\mmi-lab\\Documents\\selenium\\selenium-server-standalone-3.141.59.jar -role node -hub http://192.168.1.224:4444\n",
    "\n",
    "\"\"\"\n",
    "\n",
    "\"\"\"\n",
    "使えそう\n",
    "ジャンルからフレーズ・例文を探す\n",
    "https://gogakuru.com/english/phrase/genre/index.html\n",
    "\n",
    "\"\"\"\n",
    "print(\"aa\")"
   ],
   "metadata": {}
  },
  {
   "cell_type": "code",
   "execution_count": 52,
   "source": [
    "from selenium import webdriver\n",
    "\n",
    "chrome_options = webdriver.ChromeOptions()\n",
    "driver = webdriver.Remote(\n",
    "    command_executor=\"http://192.168.1.224:4444/wd/hub\",\n",
    "    options=chrome_options\n",
    "    )\n",
    "driver.get(\"https://gogakuru.com/english/phrase/genre/index.html\")\n",
    "\n"
   ],
   "outputs": [],
   "metadata": {}
  },
  {
   "cell_type": "code",
   "execution_count": 58,
   "source": [
    "word = \"What\"\n",
    "element = driver.find_element_by_class_name(\"condition\").find_elements_by_tag_name(\"a\")\n",
    "print(element)\n",
    "element[1].click()\n",
    "# element.clear()\n",
    "# element.send_keys(word)\n",
    "\n",
    "# button = driver.find_element_by_name(\"search\")\n",
    "\n",
    "# button.click()"
   ],
   "outputs": [
    {
     "output_type": "stream",
     "name": "stdout",
     "text": [
      "[<selenium.webdriver.remote.webelement.WebElement (session=\"11fcf49f20da5d2db5ba211234c4402b\", element=\"6fb5c0d9-d14e-4cde-91b7-2674d71124b0\")>, <selenium.webdriver.remote.webelement.WebElement (session=\"11fcf49f20da5d2db5ba211234c4402b\", element=\"b41504b2-315a-4b28-ac38-aa609af034a9\")>, <selenium.webdriver.remote.webelement.WebElement (session=\"11fcf49f20da5d2db5ba211234c4402b\", element=\"bf3b8c4a-ef9a-493c-b688-900222be489a\")>, <selenium.webdriver.remote.webelement.WebElement (session=\"11fcf49f20da5d2db5ba211234c4402b\", element=\"6d5ba6af-4f92-4183-bfc6-008cf4e1faf5\")>, <selenium.webdriver.remote.webelement.WebElement (session=\"11fcf49f20da5d2db5ba211234c4402b\", element=\"0c4f6d04-9832-42b7-bf32-e14355f5c718\")>, <selenium.webdriver.remote.webelement.WebElement (session=\"11fcf49f20da5d2db5ba211234c4402b\", element=\"61351912-261c-4c46-af89-4ac860de08f1\")>, <selenium.webdriver.remote.webelement.WebElement (session=\"11fcf49f20da5d2db5ba211234c4402b\", element=\"84d2f2e4-f850-48a5-94a8-ba76603c7a27\")>, <selenium.webdriver.remote.webelement.WebElement (session=\"11fcf49f20da5d2db5ba211234c4402b\", element=\"773260ef-6fad-4a9e-a629-9e00e57be75c\")>, <selenium.webdriver.remote.webelement.WebElement (session=\"11fcf49f20da5d2db5ba211234c4402b\", element=\"376ef1a9-fa4b-4f79-af23-4e2019d6693a\")>, <selenium.webdriver.remote.webelement.WebElement (session=\"11fcf49f20da5d2db5ba211234c4402b\", element=\"f95eedff-e9d0-46fe-ae3a-7325af024237\")>, <selenium.webdriver.remote.webelement.WebElement (session=\"11fcf49f20da5d2db5ba211234c4402b\", element=\"30637f2e-2e82-42b9-9bc3-162abf7b9e9b\")>, <selenium.webdriver.remote.webelement.WebElement (session=\"11fcf49f20da5d2db5ba211234c4402b\", element=\"e137f0f1-f492-4c1b-97da-fed92214bbf2\")>, <selenium.webdriver.remote.webelement.WebElement (session=\"11fcf49f20da5d2db5ba211234c4402b\", element=\"fa1db308-bb7a-448d-8a6f-b9e0a4839a7e\")>, <selenium.webdriver.remote.webelement.WebElement (session=\"11fcf49f20da5d2db5ba211234c4402b\", element=\"00620e5f-e4f2-452b-b5fe-194ca314d514\")>, <selenium.webdriver.remote.webelement.WebElement (session=\"11fcf49f20da5d2db5ba211234c4402b\", element=\"ad3c5836-bd1d-42dc-9316-d17baa9e184e\")>, <selenium.webdriver.remote.webelement.WebElement (session=\"11fcf49f20da5d2db5ba211234c4402b\", element=\"2bd38349-8800-46df-b6f8-1775d20c5c04\")>, <selenium.webdriver.remote.webelement.WebElement (session=\"11fcf49f20da5d2db5ba211234c4402b\", element=\"e454c5f1-b27f-4a7f-be86-b00037d12dc9\")>, <selenium.webdriver.remote.webelement.WebElement (session=\"11fcf49f20da5d2db5ba211234c4402b\", element=\"09f434a8-5b04-4b4b-9edb-d8d6709b960f\")>]\n"
     ]
    }
   ],
   "metadata": {}
  },
  {
   "cell_type": "code",
   "execution_count": 51,
   "source": [
    "\n",
    "html = driver.page_source.encode('utf-8')\n",
    "soup = BeautifulSoup(html, 'lxml')\n",
    "cells = soup.find_all(\"td\", class_=\"summary\")\n",
    "for cell in cells:\n",
    "    engs = cell.find_all(\"span\", class_=\"font-en\")\n",
    "    text_ = [eng.get_text() for eng in engs]\n",
    "    text = text_[0]\n",
    "    print(text)\n",
    "    # 大文字で含まれるならば\n",
    "    if word in text:\n",
    "        jp = cell.find(\"dd\", class_=\"jp\").get_text()\n",
    "        print(jp)"
   ],
   "outputs": [
    {
     "output_type": "stream",
     "name": "stdout",
     "text": [
      "What if the tourists made it?\n",
      "それを観光客が作ったらどうかな？\n",
      "What big eyes Meg has!\n",
      "メグはとっても大きな目をしてるね！\n",
      "What if she doesn't?\n",
      "もし戻ってこなかったらどうするの？\n",
      "What if he fails this time?\n",
      "今度、彼が失敗したらどうなるの？\n",
      "What kind of work do you do?\n",
      "あなたは、どのような仕事をしているのですか？\n",
      "You can buy whatever you want.\n",
      "What do you say?\n",
      "どう？\n",
      "What's going on?\n",
      "（ここで）いったい何が起こってるんだ？\n",
      "What does it mean?\n",
      "それはどういう意味ですか？\n",
      "What time do you finish tennis practice?\n",
      "テニスの練習を何時に終えるの？\n",
      "That's what I wanted to tell you.\n",
      "I see. That's what this is all about.\n",
      "What are you doing, Takumi?\n",
      "何してるんだ、匠？\n",
      "This is what she said to me.\n",
      "I know exactly what you need.\n",
      "What do you do?\n",
      "どんな仕事をしているの？\n",
      "What about something more vivid?\n",
      "もっと明るい色のものはどう？\n",
      "What's the secret?\n",
      "秘けつは何ですか？\n",
      "What if we meet at 10 instead of 8?\n",
      "8時ではなく10時に会うのではどうですか？\n",
      "So what've you been up to?\n"
     ]
    }
   ],
   "metadata": {}
  },
  {
   "cell_type": "code",
   "execution_count": 41,
   "source": [
    "# next_t = soup.find(\"span\", class_=\"right\").find(\"a\").get(\"href\")\n",
    "# print(next_t)\n",
    "for _ in range(64):\n",
    "    next_t = driver.find_element_by_class_name(\"right\").find_element_by_tag_name('a')\n",
    "    next_t = next_t.find_element_by_tag_name('a')\n",
    "    next_t.click()\n",
    "# next_t.click()\n"
   ],
   "outputs": [
    {
     "output_type": "error",
     "ename": "NoSuchElementException",
     "evalue": "Message: no such element: Unable to locate element: {\"method\":\"css selector\",\"selector\":\"a\"}\n  (Session info: chrome=92.0.4515.131)\n",
     "traceback": [
      "\u001b[0;31m---------------------------------------------------------------------------\u001b[0m",
      "\u001b[0;31mNoSuchElementException\u001b[0m                    Traceback (most recent call last)",
      "\u001b[0;32m<ipython-input-41-28af1f064012>\u001b[0m in \u001b[0;36m<module>\u001b[0;34m\u001b[0m\n\u001b[1;32m      3\u001b[0m \u001b[0;32mfor\u001b[0m \u001b[0m_\u001b[0m \u001b[0;32min\u001b[0m \u001b[0mrange\u001b[0m\u001b[0;34m(\u001b[0m\u001b[0;36m64\u001b[0m\u001b[0;34m)\u001b[0m\u001b[0;34m:\u001b[0m\u001b[0;34m\u001b[0m\u001b[0;34m\u001b[0m\u001b[0m\n\u001b[1;32m      4\u001b[0m     \u001b[0mnext_t\u001b[0m \u001b[0;34m=\u001b[0m \u001b[0mdriver\u001b[0m\u001b[0;34m.\u001b[0m\u001b[0mfind_element_by_class_name\u001b[0m\u001b[0;34m(\u001b[0m\u001b[0;34m\"right\"\u001b[0m\u001b[0;34m)\u001b[0m\u001b[0;34m.\u001b[0m\u001b[0mfind_element_by_tag_name\u001b[0m\u001b[0;34m(\u001b[0m\u001b[0;34m'a'\u001b[0m\u001b[0;34m)\u001b[0m\u001b[0;34m\u001b[0m\u001b[0;34m\u001b[0m\u001b[0m\n\u001b[0;32m----> 5\u001b[0;31m     \u001b[0mnext_t\u001b[0m \u001b[0;34m=\u001b[0m \u001b[0mnext_t\u001b[0m\u001b[0;34m.\u001b[0m\u001b[0mfind_element_by_tag_name\u001b[0m\u001b[0;34m(\u001b[0m\u001b[0;34m'a'\u001b[0m\u001b[0;34m)\u001b[0m\u001b[0;34m\u001b[0m\u001b[0;34m\u001b[0m\u001b[0m\n\u001b[0m\u001b[1;32m      6\u001b[0m     \u001b[0mnext_t\u001b[0m\u001b[0;34m.\u001b[0m\u001b[0mclick\u001b[0m\u001b[0;34m(\u001b[0m\u001b[0;34m)\u001b[0m\u001b[0;34m\u001b[0m\u001b[0;34m\u001b[0m\u001b[0m\n\u001b[1;32m      7\u001b[0m \u001b[0;31m# next_t.click()\u001b[0m\u001b[0;34m\u001b[0m\u001b[0;34m\u001b[0m\u001b[0;34m\u001b[0m\u001b[0m\n",
      "\u001b[0;32m~/.local/lib/python3.6/site-packages/selenium/webdriver/remote/webelement.py\u001b[0m in \u001b[0;36mfind_element_by_tag_name\u001b[0;34m(self, name)\u001b[0m\n\u001b[1;32m    303\u001b[0m             \u001b[0melement\u001b[0m \u001b[0;34m=\u001b[0m \u001b[0melement\u001b[0m\u001b[0;34m.\u001b[0m\u001b[0mfind_element_by_tag_name\u001b[0m\u001b[0;34m(\u001b[0m\u001b[0;34m'h1'\u001b[0m\u001b[0;34m)\u001b[0m\u001b[0;34m\u001b[0m\u001b[0;34m\u001b[0m\u001b[0m\n\u001b[1;32m    304\u001b[0m         \"\"\"\n\u001b[0;32m--> 305\u001b[0;31m         \u001b[0;32mreturn\u001b[0m \u001b[0mself\u001b[0m\u001b[0;34m.\u001b[0m\u001b[0mfind_element\u001b[0m\u001b[0;34m(\u001b[0m\u001b[0mby\u001b[0m\u001b[0;34m=\u001b[0m\u001b[0mBy\u001b[0m\u001b[0;34m.\u001b[0m\u001b[0mTAG_NAME\u001b[0m\u001b[0;34m,\u001b[0m \u001b[0mvalue\u001b[0m\u001b[0;34m=\u001b[0m\u001b[0mname\u001b[0m\u001b[0;34m)\u001b[0m\u001b[0;34m\u001b[0m\u001b[0;34m\u001b[0m\u001b[0m\n\u001b[0m\u001b[1;32m    306\u001b[0m \u001b[0;34m\u001b[0m\u001b[0m\n\u001b[1;32m    307\u001b[0m     \u001b[0;32mdef\u001b[0m \u001b[0mfind_elements_by_tag_name\u001b[0m\u001b[0;34m(\u001b[0m\u001b[0mself\u001b[0m\u001b[0;34m,\u001b[0m \u001b[0mname\u001b[0m\u001b[0;34m)\u001b[0m\u001b[0;34m:\u001b[0m\u001b[0;34m\u001b[0m\u001b[0;34m\u001b[0m\u001b[0m\n",
      "\u001b[0;32m~/.local/lib/python3.6/site-packages/selenium/webdriver/remote/webelement.py\u001b[0m in \u001b[0;36mfind_element\u001b[0;34m(self, by, value)\u001b[0m\n\u001b[1;32m    657\u001b[0m \u001b[0;34m\u001b[0m\u001b[0m\n\u001b[1;32m    658\u001b[0m         return self._execute(Command.FIND_CHILD_ELEMENT,\n\u001b[0;32m--> 659\u001b[0;31m                              {\"using\": by, \"value\": value})['value']\n\u001b[0m\u001b[1;32m    660\u001b[0m \u001b[0;34m\u001b[0m\u001b[0m\n\u001b[1;32m    661\u001b[0m     \u001b[0;32mdef\u001b[0m \u001b[0mfind_elements\u001b[0m\u001b[0;34m(\u001b[0m\u001b[0mself\u001b[0m\u001b[0;34m,\u001b[0m \u001b[0mby\u001b[0m\u001b[0;34m=\u001b[0m\u001b[0mBy\u001b[0m\u001b[0;34m.\u001b[0m\u001b[0mID\u001b[0m\u001b[0;34m,\u001b[0m \u001b[0mvalue\u001b[0m\u001b[0;34m=\u001b[0m\u001b[0;32mNone\u001b[0m\u001b[0;34m)\u001b[0m\u001b[0;34m:\u001b[0m\u001b[0;34m\u001b[0m\u001b[0;34m\u001b[0m\u001b[0m\n",
      "\u001b[0;32m~/.local/lib/python3.6/site-packages/selenium/webdriver/remote/webelement.py\u001b[0m in \u001b[0;36m_execute\u001b[0;34m(self, command, params)\u001b[0m\n\u001b[1;32m    631\u001b[0m             \u001b[0mparams\u001b[0m \u001b[0;34m=\u001b[0m \u001b[0;34m{\u001b[0m\u001b[0;34m}\u001b[0m\u001b[0;34m\u001b[0m\u001b[0;34m\u001b[0m\u001b[0m\n\u001b[1;32m    632\u001b[0m         \u001b[0mparams\u001b[0m\u001b[0;34m[\u001b[0m\u001b[0;34m'id'\u001b[0m\u001b[0;34m]\u001b[0m \u001b[0;34m=\u001b[0m \u001b[0mself\u001b[0m\u001b[0;34m.\u001b[0m\u001b[0m_id\u001b[0m\u001b[0;34m\u001b[0m\u001b[0;34m\u001b[0m\u001b[0m\n\u001b[0;32m--> 633\u001b[0;31m         \u001b[0;32mreturn\u001b[0m \u001b[0mself\u001b[0m\u001b[0;34m.\u001b[0m\u001b[0m_parent\u001b[0m\u001b[0;34m.\u001b[0m\u001b[0mexecute\u001b[0m\u001b[0;34m(\u001b[0m\u001b[0mcommand\u001b[0m\u001b[0;34m,\u001b[0m \u001b[0mparams\u001b[0m\u001b[0;34m)\u001b[0m\u001b[0;34m\u001b[0m\u001b[0;34m\u001b[0m\u001b[0m\n\u001b[0m\u001b[1;32m    634\u001b[0m \u001b[0;34m\u001b[0m\u001b[0m\n\u001b[1;32m    635\u001b[0m     \u001b[0;32mdef\u001b[0m \u001b[0mfind_element\u001b[0m\u001b[0;34m(\u001b[0m\u001b[0mself\u001b[0m\u001b[0;34m,\u001b[0m \u001b[0mby\u001b[0m\u001b[0;34m=\u001b[0m\u001b[0mBy\u001b[0m\u001b[0;34m.\u001b[0m\u001b[0mID\u001b[0m\u001b[0;34m,\u001b[0m \u001b[0mvalue\u001b[0m\u001b[0;34m=\u001b[0m\u001b[0;32mNone\u001b[0m\u001b[0;34m)\u001b[0m\u001b[0;34m:\u001b[0m\u001b[0;34m\u001b[0m\u001b[0;34m\u001b[0m\u001b[0m\n",
      "\u001b[0;32m~/.local/lib/python3.6/site-packages/selenium/webdriver/remote/webdriver.py\u001b[0m in \u001b[0;36mexecute\u001b[0;34m(self, driver_command, params)\u001b[0m\n\u001b[1;32m    319\u001b[0m         \u001b[0mresponse\u001b[0m \u001b[0;34m=\u001b[0m \u001b[0mself\u001b[0m\u001b[0;34m.\u001b[0m\u001b[0mcommand_executor\u001b[0m\u001b[0;34m.\u001b[0m\u001b[0mexecute\u001b[0m\u001b[0;34m(\u001b[0m\u001b[0mdriver_command\u001b[0m\u001b[0;34m,\u001b[0m \u001b[0mparams\u001b[0m\u001b[0;34m)\u001b[0m\u001b[0;34m\u001b[0m\u001b[0;34m\u001b[0m\u001b[0m\n\u001b[1;32m    320\u001b[0m         \u001b[0;32mif\u001b[0m \u001b[0mresponse\u001b[0m\u001b[0;34m:\u001b[0m\u001b[0;34m\u001b[0m\u001b[0;34m\u001b[0m\u001b[0m\n\u001b[0;32m--> 321\u001b[0;31m             \u001b[0mself\u001b[0m\u001b[0;34m.\u001b[0m\u001b[0merror_handler\u001b[0m\u001b[0;34m.\u001b[0m\u001b[0mcheck_response\u001b[0m\u001b[0;34m(\u001b[0m\u001b[0mresponse\u001b[0m\u001b[0;34m)\u001b[0m\u001b[0;34m\u001b[0m\u001b[0;34m\u001b[0m\u001b[0m\n\u001b[0m\u001b[1;32m    322\u001b[0m             response['value'] = self._unwrap_value(\n\u001b[1;32m    323\u001b[0m                 response.get('value', None))\n",
      "\u001b[0;32m~/.local/lib/python3.6/site-packages/selenium/webdriver/remote/errorhandler.py\u001b[0m in \u001b[0;36mcheck_response\u001b[0;34m(self, response)\u001b[0m\n\u001b[1;32m    240\u001b[0m                 \u001b[0malert_text\u001b[0m \u001b[0;34m=\u001b[0m \u001b[0mvalue\u001b[0m\u001b[0;34m[\u001b[0m\u001b[0;34m'alert'\u001b[0m\u001b[0;34m]\u001b[0m\u001b[0;34m.\u001b[0m\u001b[0mget\u001b[0m\u001b[0;34m(\u001b[0m\u001b[0;34m'text'\u001b[0m\u001b[0;34m)\u001b[0m\u001b[0;34m\u001b[0m\u001b[0;34m\u001b[0m\u001b[0m\n\u001b[1;32m    241\u001b[0m             \u001b[0;32mraise\u001b[0m \u001b[0mexception_class\u001b[0m\u001b[0;34m(\u001b[0m\u001b[0mmessage\u001b[0m\u001b[0;34m,\u001b[0m \u001b[0mscreen\u001b[0m\u001b[0;34m,\u001b[0m \u001b[0mstacktrace\u001b[0m\u001b[0;34m,\u001b[0m \u001b[0malert_text\u001b[0m\u001b[0;34m)\u001b[0m\u001b[0;34m\u001b[0m\u001b[0;34m\u001b[0m\u001b[0m\n\u001b[0;32m--> 242\u001b[0;31m         \u001b[0;32mraise\u001b[0m \u001b[0mexception_class\u001b[0m\u001b[0;34m(\u001b[0m\u001b[0mmessage\u001b[0m\u001b[0;34m,\u001b[0m \u001b[0mscreen\u001b[0m\u001b[0;34m,\u001b[0m \u001b[0mstacktrace\u001b[0m\u001b[0;34m)\u001b[0m\u001b[0;34m\u001b[0m\u001b[0;34m\u001b[0m\u001b[0m\n\u001b[0m\u001b[1;32m    243\u001b[0m \u001b[0;34m\u001b[0m\u001b[0m\n\u001b[1;32m    244\u001b[0m     \u001b[0;32mdef\u001b[0m \u001b[0m_value_or_default\u001b[0m\u001b[0;34m(\u001b[0m\u001b[0mself\u001b[0m\u001b[0;34m,\u001b[0m \u001b[0mobj\u001b[0m\u001b[0;34m,\u001b[0m \u001b[0mkey\u001b[0m\u001b[0;34m,\u001b[0m \u001b[0mdefault\u001b[0m\u001b[0;34m)\u001b[0m\u001b[0;34m:\u001b[0m\u001b[0;34m\u001b[0m\u001b[0;34m\u001b[0m\u001b[0m\n",
      "\u001b[0;31mNoSuchElementException\u001b[0m: Message: no such element: Unable to locate element: {\"method\":\"css selector\",\"selector\":\"a\"}\n  (Session info: chrome=92.0.4515.131)\n"
     ]
    }
   ],
   "metadata": {}
  },
  {
   "cell_type": "code",
   "execution_count": 59,
   "source": [
    "driver.quit() "
   ],
   "outputs": [],
   "metadata": {}
  },
  {
   "cell_type": "code",
   "execution_count": null,
   "source": [],
   "outputs": [],
   "metadata": {}
  }
 ],
 "metadata": {
  "orig_nbformat": 4,
  "language_info": {
   "name": "python",
   "version": "3.6.9",
   "mimetype": "text/x-python",
   "codemirror_mode": {
    "name": "ipython",
    "version": 3
   },
   "pygments_lexer": "ipython3",
   "nbconvert_exporter": "python",
   "file_extension": ".py"
  },
  "kernelspec": {
   "name": "python3",
   "display_name": "Python 3.6.9 64-bit"
  },
  "interpreter": {
   "hash": "31f2aee4e71d21fbe5cf8b01ff0e069b9275f58929596ceb00d14d90e3e16cd6"
  }
 },
 "nbformat": 4,
 "nbformat_minor": 2
}